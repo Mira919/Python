{
 "cells": [
  {
   "cell_type": "code",
   "execution_count": 3,
   "metadata": {},
   "outputs": [],
   "source": [
    "import pandas as pd"
   ]
  },
  {
   "cell_type": "code",
   "execution_count": 39,
   "metadata": {},
   "outputs": [],
   "source": [
    "# С использованием Pandas написать функцию, которая загружает указанные года и выводит ТОП-3 популярных имен.\n",
    "def count_top3(years):\n",
    "    list = []\n",
    "    for year in years: # перебирать года в списке\n",
    "        list.append(pd.read_csv('names/yob'+ str(year) + '.txt', names=['Names', 'Gender', 'Count'])) # в лист добавлять ДатаФрейморк, чтобы потом их соединить\n",
    "    df_res = pd.concat(list) # Соединить ДФ\n",
    "    df_group_by = df_res.groupby(['Names']).sum() # Таблица из имени и количество раз\n",
    "    df_group_by.sort_values('Count', inplace=True, ascending=False) # Сортирует кол-во по возрастанию\n",
    "    df_group_by_top3 =  df_group_by.head(3) # Топ 3\n",
    "    return df_group_by_top3.to_dict()"
   ]
  },
  {
   "cell_type": "code",
   "execution_count": 40,
   "metadata": {},
   "outputs": [
    {
     "data": {
      "text/plain": [
       "{'Count': {'James': 111789, 'John': 109601, 'Robert': 101368}}"
      ]
     },
     "execution_count": 40,
     "metadata": {},
     "output_type": "execute_result"
    }
   ],
   "source": [
    "count_top3([1900,1950,2000])"
   ]
  },
  {
   "cell_type": "code",
   "execution_count": 155,
   "metadata": {},
   "outputs": [],
   "source": [
    "# С использованием Pandas написать функцию, которая возвращает динамику изменения количества имен за указанные года в разрезе полов.\n",
    "def count_dynamics(years):\n",
    "    F_list = []\n",
    "    M_list = []\n",
    "    for year in years: # перебирать года в списке\n",
    "        df = pd.read_csv('names/yob'+ str(year) + '.txt', names=['Names', 'Gender', 'Count']) # делаем из файла ДФ\n",
    "        F_list.append(df[df.Gender == 'F'].Count.sum()) # Добавлем в F_LIST если GENDER == F\n",
    "        M_list.append(df[df.Gender == 'M'].Count.sum()) # Добавлем в M_LIST если GENDER == F\n",
    "    result = {'F':F_list, 'M':M_list}\n",
    "    return result"
   ]
  },
  {
   "cell_type": "code",
   "execution_count": 164,
   "metadata": {},
   "outputs": [
    {
     "data": {
      "text/plain": [
       "{'F': [299798, 1713065, 1815295], 'M': [150480, 1790437, 1963202]}"
      ]
     },
     "execution_count": 164,
     "metadata": {},
     "output_type": "execute_result"
    }
   ],
   "source": [
    "count_dynamics([1900, 1950, 2000])"
   ]
  }
 ],
 "metadata": {
  "kernelspec": {
   "display_name": "Python 3",
   "language": "python",
   "name": "python3"
  },
  "language_info": {
   "codemirror_mode": {
    "name": "ipython",
    "version": 3
   },
   "file_extension": ".py",
   "mimetype": "text/x-python",
   "name": "python",
   "nbconvert_exporter": "python",
   "pygments_lexer": "ipython3",
   "version": "3.7.4"
  }
 },
 "nbformat": 4,
 "nbformat_minor": 2
}
